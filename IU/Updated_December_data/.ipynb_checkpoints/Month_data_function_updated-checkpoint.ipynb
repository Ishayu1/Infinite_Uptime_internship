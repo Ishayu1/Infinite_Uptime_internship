{
 "cells": [
  {
   "cell_type": "code",
   "execution_count": null,
   "id": "659194b7-f102-4768-a3ba-f4ef85c0b3e8",
   "metadata": {},
   "outputs": [],
   "source": [
    "# def get_month_data(month,drs_data):\n",
    "#     days_dfs = []\n",
    "#     dates = [f\"{i}_dec\" for i in range(4,32)]\n",
    "#     for i in month:\n",
    "#         df = pd.read_excel(i)\n",
    "#         vals = df.filter(regex=\"SIGNAL_ENERGY|VELOCITY_X|VELOCITY_Y|VELOCITY_Z\")\n",
    "#         vals = vals.filter(regex=\"2_day_mean|5_day_mean|10_day_mean|30_day_mean\")\n",
    "#         def condition(vals):# condition to check whether if there are any missing values from the row\n",
    "#             return vals.isna().any()\n",
    "#         vals[\"Missing\"] = vals.apply(condition,axis=1)\n",
    "#         vals['Columns_missing'] = vals.apply(lambda x: x[x.isnull()].index,axis=1)\n",
    "#         vals['Columns_missing'] = np.where(vals[\"Missing\"]==False,'[]',vals['Columns_missing'])\n",
    "#         cols = [vals[\"Missing\"],vals['Columns_missing']]\n",
    "#         df = df.join(cols)\n",
    "#         days_dfs.append(df)\n",
    "#     month_data = pd.concat(days_dfs,axis=0)\n",
    "#     month_data = month_data.drop_duplicates(subset=[\"monitorId\"])\n",
    "#     month_final = pd.DataFrame(month_data.monitorId)\n",
    "#     for i in range(len(month)):\n",
    "#         missing_cols =  pd.read_excel(month[i],usecols=[\"Columns_missing\"])\n",
    "#         month_final[dates[i]] = missing_cols\n",
    "#     drs_data = pd.read_excel(drs_data)\n",
    "#     drs_data.drop(['Unnamed: 0'],axis = 1, inplace = True) #remove unnecessary column\n",
    "#     drs_data.rename(columns = {\"monitor_id\":\"monitorId\"},inplace=True) #ensure that both dataframes have same name\n",
    "#     month_drs = pd.merge(drs_data,month_final,on=\"monitorId\")\n",
    "#     month_drs = month_drs.drop_duplicates(subset=[\"monitorId\"]) #ensure that there are only unique monitor Ids\n",
    "#     df.to_excel(\"Month_drs_data\",index=False)"
   ]
  },
  {
   "cell_type": "code",
   "execution_count": null,
   "id": "1e72c3f4-757e-48ca-8a94-f991d42e7ef7",
   "metadata": {},
   "outputs": [],
   "source": [
    "def get_month_data(month, drs_data):\n",
    "    # Read all files at once using list comprehension and concatenate\n",
    "    days_dfs = [pd.read_excel(file) for file in month]\n",
    "    month_data = pd.concat(days_dfs, axis=0)\n",
    "\n",
    "    dates = [f\"{i}_dec\" for i in range(4, 32)]\n",
    "    \n",
    "    # Calculate missing values directly on the original DataFrame\n",
    "    vals = month_data.filter(regex=\"SIGNAL_ENERGY|VELOCITY_X|VELOCITY_Y|VELOCITY_Z\")\n",
    "    vals = vals.filter(regex=\"2_day_mean|5_day_mean|10_day_mean|30_day_mean\")\n",
    "    vals[\"Missing\"] = vals.isna().any(axis=1)\n",
    "    vals['Columns_missing'] = vals.isnull().apply(lambda x: x[x].index, axis=1)\n",
    "    vals['Columns_missing'] = vals['Columns_missing'].where(vals[\"Missing\"]==False, '[]')\n",
    "    \n",
    "    # Merge missing values columns with the original DataFrame\n",
    "    month_data = pd.merge(month_data, vals[['Missing', 'Columns_missing']], left_index=True, right_index=True)\n",
    "    \n",
    "    month_data = month_data.drop_duplicates(subset=[\"monitorId\"])\n",
    "    month_final = pd.DataFrame(month_data[\"monitorId\"])\n",
    "    \n",
    "    for i, file in enumerate(month):\n",
    "        missing_cols = pd.read_excel(file, usecols=[\"Columns_missing\"])\n",
    "        month_final[dates[i]] = missing_cols\n",
    "    \n",
    "    drs_data = pd.read_excel(drs_data)\n",
    "    drs_data.drop(['Unnamed: 0'], axis=1, inplace=True)  # Remove unnecessary column\n",
    "    drs_data.rename(columns={\"monitor_id\": \"monitorId\"}, inplace=True)  # Ensure same column name\n",
    "    \n",
    "    month_drs = pd.merge(drs_data, month_final, on=\"monitorId\")\n",
    "    month_drs = month_drs.drop_duplicates(subset=[\"monitorId\"])\n",
    "    \n",
    "    month_drs.to_excel(\"Month_drs_data.xlsx\", index=False)\n"
   ]
  }
 ],
 "metadata": {
  "kernelspec": {
   "display_name": "Python 3 (ipykernel)",
   "language": "python",
   "name": "python3"
  },
  "language_info": {
   "codemirror_mode": {
    "name": "ipython",
    "version": 3
   },
   "file_extension": ".py",
   "mimetype": "text/x-python",
   "name": "python",
   "nbconvert_exporter": "python",
   "pygments_lexer": "ipython3",
   "version": "3.9.12"
  }
 },
 "nbformat": 4,
 "nbformat_minor": 5
}
