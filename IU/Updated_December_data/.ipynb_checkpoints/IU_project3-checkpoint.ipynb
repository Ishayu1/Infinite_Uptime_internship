{
 "cells": [
  {
   "cell_type": "code",
   "execution_count": 93,
   "id": "d0df188f-99fd-45be-bed8-2c6aa0258742",
   "metadata": {},
   "outputs": [
    {
     "data": {
      "text/plain": [
       "['.ipynb_checkpoints',\n",
       " 'IU_project3.ipynb',\n",
       " 'Updated_Cloud_data_for_10th_December.xlsx',\n",
       " 'Updated_Cloud_data_for_11th_December.xlsx',\n",
       " 'Updated_Cloud_data_for_12th_December.xlsx',\n",
       " 'Updated_Cloud_data_for_13th_December.xlsx',\n",
       " 'Updated_Cloud_data_for_14th_December.xlsx',\n",
       " 'Updated_Cloud_data_for_15th_December.xlsx',\n",
       " 'Updated_Cloud_data_for_16th_December.xlsx',\n",
       " 'Updated_Cloud_data_for_17th_December.xlsx',\n",
       " 'Updated_Cloud_data_for_18th_December.xlsx',\n",
       " 'Updated_Cloud_data_for_19th_December.xlsx',\n",
       " 'Updated_Cloud_data_for_20th_December.xlsx',\n",
       " 'Updated_Cloud_data_for_21th_December.xlsx',\n",
       " 'Updated_Cloud_data_for_22th_December.xlsx',\n",
       " 'Updated_Cloud_data_for_23th_December.xlsx',\n",
       " 'Updated_Cloud_data_for_24th_December.xlsx',\n",
       " 'Updated_Cloud_data_for_25th_December.xlsx',\n",
       " 'Updated_Cloud_data_for_26th_December.xlsx',\n",
       " 'Updated_Cloud_data_for_27th_December.xlsx',\n",
       " 'Updated_Cloud_data_for_28th_December.xlsx',\n",
       " 'Updated_Cloud_data_for_29th_December.xlsx',\n",
       " 'Updated_Cloud_data_for_30th_December.xlsx',\n",
       " 'Updated_Cloud_data_for_31th_December.xlsx',\n",
       " 'Updated_Cloud_data_for_4th_December.xlsx',\n",
       " 'Updated_Cloud_data_for_5th_December.xlsx',\n",
       " 'Updated_Cloud_data_for_6th_December.xlsx',\n",
       " 'Updated_Cloud_data_for_7th_December.xlsx',\n",
       " 'Updated_Cloud_data_for_8th_December.xlsx',\n",
       " 'Updated_Cloud_data_for_9th_December.xlsx']"
      ]
     },
     "execution_count": 93,
     "metadata": {},
     "output_type": "execute_result"
    }
   ],
   "source": [
    "import os\n",
    "path = r\"C:\\Users\\97155\\Desktop\\IU\\Updated_December_data\"\n",
    "files = os.listdir(path)\n",
    "files"
   ]
  },
  {
   "cell_type": "code",
   "execution_count": 94,
   "id": "905c7469-1bdf-496f-805d-43f9361997b4",
   "metadata": {},
   "outputs": [
    {
     "data": {
      "text/plain": [
       "['Updated_Cloud_data_for_4th_December.xlsx',\n",
       " 'Updated_Cloud_data_for_5th_December.xlsx',\n",
       " 'Updated_Cloud_data_for_6th_December.xlsx',\n",
       " 'Updated_Cloud_data_for_7th_December.xlsx',\n",
       " 'Updated_Cloud_data_for_8th_December.xlsx',\n",
       " 'Updated_Cloud_data_for_9th_December.xlsx']"
      ]
     },
     "execution_count": 94,
     "metadata": {},
     "output_type": "execute_result"
    }
   ],
   "source": [
    "vals = files[24:30]\n",
    "vals"
   ]
  },
  {
   "cell_type": "code",
   "execution_count": 95,
   "id": "1ef25224-cc78-4c2b-94dd-dd14d2af0a47",
   "metadata": {},
   "outputs": [
    {
     "data": {
      "text/plain": [
       "['Updated_Cloud_data_for_4th_December.xlsx',\n",
       " 'Updated_Cloud_data_for_5th_December.xlsx',\n",
       " 'Updated_Cloud_data_for_6th_December.xlsx',\n",
       " 'Updated_Cloud_data_for_7th_December.xlsx',\n",
       " 'Updated_Cloud_data_for_8th_December.xlsx',\n",
       " 'Updated_Cloud_data_for_9th_December.xlsx',\n",
       " '.ipynb_checkpoints',\n",
       " 'IU_project3.ipynb',\n",
       " 'Updated_Cloud_data_for_10th_December.xlsx',\n",
       " 'Updated_Cloud_data_for_11th_December.xlsx',\n",
       " 'Updated_Cloud_data_for_12th_December.xlsx',\n",
       " 'Updated_Cloud_data_for_13th_December.xlsx',\n",
       " 'Updated_Cloud_data_for_14th_December.xlsx',\n",
       " 'Updated_Cloud_data_for_15th_December.xlsx',\n",
       " 'Updated_Cloud_data_for_16th_December.xlsx',\n",
       " 'Updated_Cloud_data_for_17th_December.xlsx',\n",
       " 'Updated_Cloud_data_for_18th_December.xlsx',\n",
       " 'Updated_Cloud_data_for_19th_December.xlsx',\n",
       " 'Updated_Cloud_data_for_20th_December.xlsx',\n",
       " 'Updated_Cloud_data_for_21th_December.xlsx',\n",
       " 'Updated_Cloud_data_for_22th_December.xlsx',\n",
       " 'Updated_Cloud_data_for_23th_December.xlsx',\n",
       " 'Updated_Cloud_data_for_24th_December.xlsx',\n",
       " 'Updated_Cloud_data_for_25th_December.xlsx',\n",
       " 'Updated_Cloud_data_for_26th_December.xlsx',\n",
       " 'Updated_Cloud_data_for_27th_December.xlsx',\n",
       " 'Updated_Cloud_data_for_28th_December.xlsx',\n",
       " 'Updated_Cloud_data_for_29th_December.xlsx',\n",
       " 'Updated_Cloud_data_for_30th_December.xlsx',\n",
       " 'Updated_Cloud_data_for_31th_December.xlsx',\n",
       " 'Updated_Cloud_data_for_4th_December.xlsx',\n",
       " 'Updated_Cloud_data_for_5th_December.xlsx',\n",
       " 'Updated_Cloud_data_for_6th_December.xlsx',\n",
       " 'Updated_Cloud_data_for_7th_December.xlsx',\n",
       " 'Updated_Cloud_data_for_8th_December.xlsx',\n",
       " 'Updated_Cloud_data_for_9th_December.xlsx']"
      ]
     },
     "execution_count": 95,
     "metadata": {},
     "output_type": "execute_result"
    }
   ],
   "source": [
    "files = vals + files\n",
    "files"
   ]
  },
  {
   "cell_type": "code",
   "execution_count": 96,
   "id": "8ea924ee-f423-470e-a764-48bda060d99b",
   "metadata": {},
   "outputs": [
    {
     "data": {
      "text/plain": [
       "['Updated_Cloud_data_for_4th_December.xlsx',\n",
       " 'Updated_Cloud_data_for_5th_December.xlsx',\n",
       " 'Updated_Cloud_data_for_6th_December.xlsx',\n",
       " 'Updated_Cloud_data_for_7th_December.xlsx',\n",
       " 'Updated_Cloud_data_for_8th_December.xlsx',\n",
       " 'Updated_Cloud_data_for_9th_December.xlsx',\n",
       " '.ipynb_checkpoints',\n",
       " 'IU_project3.ipynb',\n",
       " 'Updated_Cloud_data_for_10th_December.xlsx',\n",
       " 'Updated_Cloud_data_for_11th_December.xlsx',\n",
       " 'Updated_Cloud_data_for_12th_December.xlsx',\n",
       " 'Updated_Cloud_data_for_13th_December.xlsx',\n",
       " 'Updated_Cloud_data_for_14th_December.xlsx',\n",
       " 'Updated_Cloud_data_for_15th_December.xlsx',\n",
       " 'Updated_Cloud_data_for_16th_December.xlsx',\n",
       " 'Updated_Cloud_data_for_17th_December.xlsx',\n",
       " 'Updated_Cloud_data_for_18th_December.xlsx',\n",
       " 'Updated_Cloud_data_for_19th_December.xlsx',\n",
       " 'Updated_Cloud_data_for_20th_December.xlsx',\n",
       " 'Updated_Cloud_data_for_21th_December.xlsx',\n",
       " 'Updated_Cloud_data_for_22th_December.xlsx',\n",
       " 'Updated_Cloud_data_for_23th_December.xlsx',\n",
       " 'Updated_Cloud_data_for_24th_December.xlsx',\n",
       " 'Updated_Cloud_data_for_25th_December.xlsx',\n",
       " 'Updated_Cloud_data_for_26th_December.xlsx',\n",
       " 'Updated_Cloud_data_for_27th_December.xlsx',\n",
       " 'Updated_Cloud_data_for_28th_December.xlsx',\n",
       " 'Updated_Cloud_data_for_29th_December.xlsx',\n",
       " 'Updated_Cloud_data_for_30th_December.xlsx',\n",
       " 'Updated_Cloud_data_for_31th_December.xlsx']"
      ]
     },
     "execution_count": 96,
     "metadata": {},
     "output_type": "execute_result"
    }
   ],
   "source": [
    "files = list(dict.fromkeys(files))\n",
    "files"
   ]
  },
  {
   "cell_type": "code",
   "execution_count": 103,
   "id": "8465ccb8-9422-42e7-b0d4-7550ea2d5745",
   "metadata": {},
   "outputs": [
    {
     "data": {
      "text/plain": [
       "['Updated_Cloud_data_for_4th_December.xlsx',\n",
       " 'Updated_Cloud_data_for_5th_December.xlsx',\n",
       " 'Updated_Cloud_data_for_6th_December.xlsx',\n",
       " 'Updated_Cloud_data_for_7th_December.xlsx',\n",
       " 'Updated_Cloud_data_for_8th_December.xlsx',\n",
       " 'Updated_Cloud_data_for_9th_December.xlsx',\n",
       " 'Updated_Cloud_data_for_10th_December.xlsx',\n",
       " 'Updated_Cloud_data_for_11th_December.xlsx',\n",
       " 'Updated_Cloud_data_for_12th_December.xlsx',\n",
       " 'Updated_Cloud_data_for_13th_December.xlsx',\n",
       " 'Updated_Cloud_data_for_14th_December.xlsx',\n",
       " 'Updated_Cloud_data_for_15th_December.xlsx',\n",
       " 'Updated_Cloud_data_for_16th_December.xlsx',\n",
       " 'Updated_Cloud_data_for_17th_December.xlsx',\n",
       " 'Updated_Cloud_data_for_18th_December.xlsx',\n",
       " 'Updated_Cloud_data_for_19th_December.xlsx',\n",
       " 'Updated_Cloud_data_for_20th_December.xlsx',\n",
       " 'Updated_Cloud_data_for_21th_December.xlsx',\n",
       " 'Updated_Cloud_data_for_22th_December.xlsx',\n",
       " 'Updated_Cloud_data_for_23th_December.xlsx',\n",
       " 'Updated_Cloud_data_for_24th_December.xlsx',\n",
       " 'Updated_Cloud_data_for_25th_December.xlsx',\n",
       " 'Updated_Cloud_data_for_26th_December.xlsx',\n",
       " 'Updated_Cloud_data_for_27th_December.xlsx',\n",
       " 'Updated_Cloud_data_for_28th_December.xlsx',\n",
       " 'Updated_Cloud_data_for_29th_December.xlsx',\n",
       " 'Updated_Cloud_data_for_30th_December.xlsx',\n",
       " 'Updated_Cloud_data_for_31th_December.xlsx']"
      ]
     },
     "execution_count": 103,
     "metadata": {},
     "output_type": "execute_result"
    }
   ],
   "source": [
    "month = [f for f in files if f[-4:] == 'xlsx']\n",
    "month"
   ]
  },
  {
   "cell_type": "code",
   "execution_count": 7,
   "id": "2d6b81ff-5715-438f-95de-bdd3be4bcdaf",
   "metadata": {},
   "outputs": [],
   "source": [
    "# week1 = files_xls[0:7]\n",
    "# week2 = files_xls[7:14]\n",
    "# week3 = files_xls[14:21]\n",
    "# week4 = files_xls[21:28]"
   ]
  },
  {
   "cell_type": "code",
   "execution_count": 9,
   "id": "f19773dd-3954-4bd3-9ac9-034372b06cd8",
   "metadata": {},
   "outputs": [],
   "source": [
    "import pandas as pd\n",
    "import numpy as np"
   ]
  },
  {
   "cell_type": "code",
   "execution_count": 10,
   "id": "83fd3ab8-c5be-4d7f-ba95-fdfd10b494f0",
   "metadata": {},
   "outputs": [],
   "source": [
    "# def get_unique_monitorId(week):\n",
    "#     week_dfs = []\n",
    "#     for i in week:\n",
    "#         df = pd.read_excel(i)\n",
    "#         week_dfs.append(df)\n",
    "#     week_data = pd.concat(week_dfs,axis=0)\n",
    "#     week_data = week_data.drop_duplicates(subset=[\"monitorId\"])\n",
    "#     return week_data\n",
    "    \n",
    "    "
   ]
  },
  {
   "cell_type": "code",
   "execution_count": null,
   "id": "01c6d719-2c42-4486-a6f6-100dffe79283",
   "metadata": {},
   "outputs": [],
   "source": [
    "def get_unique_monitorId(month):\n",
    "    days_dfs = []\n",
    "    for i in month:\n",
    "        df = pd.read_excel(i)\n",
    "        days_dfs.append(df)\n",
    "    month_data = pd.concat(days_dfs,axis=0)\n",
    "    month_data = week_data.drop_duplicates(subset=[\"monitorId\"])\n",
    "    return month_data"
   ]
  },
  {
   "cell_type": "code",
   "execution_count": null,
   "id": "ddaec904-c476-4f89-a4df-da126bcc5f05",
   "metadata": {},
   "outputs": [],
   "source": [
    "month_data = get_unique_monitorId(month)"
   ]
  },
  {
   "cell_type": "code",
   "execution_count": 11,
   "id": "00e84366-e621-4fef-8be5-9a3d37988cce",
   "metadata": {
    "tags": []
   },
   "outputs": [],
   "source": [
    "# week1_data = get_unique_monitorId(week1)\n",
    "# week2_data = get_unique_monitorId(week2)\n",
    "# week3_data = get_unique_monitorId(week3)\n",
    "# week4_data = get_unique_monitorId(week4)"
   ]
  },
  {
   "cell_type": "code",
   "execution_count": 12,
   "id": "858a561e-0b19-4fae-b446-60d9b9692671",
   "metadata": {},
   "outputs": [],
   "source": [
    "# week1_dates = [f\"{i}_Dec\" for i in range(4,11)]\n",
    "# week2_dates = [f\"{i}_Dec\" for i in range(11,18)]\n",
    "# week3_dates = [f\"{i}_Dec\" for i in range(18,25)]\n",
    "# week4_dates = [f\"{i}_Dec\" for i in range(25,32)]"
   ]
  },
  {
   "cell_type": "code",
   "execution_count": 102,
   "id": "24aa67f1-dabb-4fd5-addf-69035ca0e262",
   "metadata": {},
   "outputs": [],
   "source": [
    "dates = [f\"{i}_dec\" for i in range(4,32)]\n"
   ]
  },
  {
   "cell_type": "code",
   "execution_count": 13,
   "id": "92a3026e-f83f-4ca9-a8e8-754139013342",
   "metadata": {},
   "outputs": [],
   "source": [
    "def Create_Week(dates,month_data):\n",
    "    month_final = pd.DataFrame(month_data.monitorId)\n",
    "    for i in range(len(week)):\n",
    "        missing_cols =  pd.read_excel(week[i],usecols=[\"Columns_missing\"])\n",
    "        week_final[week_dates[i]] = missing_cols\n",
    "    return week_final\n",
    "        \n",
    "        \n",
    "        \n",
    "        "
   ]
  },
  {
   "cell_type": "code",
   "execution_count": 14,
   "id": "de748161-8df6-4fc6-8c42-9ff1a8dc0195",
   "metadata": {},
   "outputs": [],
   "source": [
    "# week1_final = Create_Week(week1,week1_dates,week1_data)\n",
    "# week2_final = Create_Week(week2,week2_dates,week2_data)\n",
    "# week3_final = Create_Week(week3,week3_dates,week3_data)\n",
    "# week4_final = Create_Week(week4,week4_dates,week4_data)"
   ]
  },
  {
   "cell_type": "code",
   "execution_count": 24,
   "id": "e3d55f81-21a6-46d9-bfc5-0d6d6c89e54e",
   "metadata": {},
   "outputs": [],
   "source": [
    "drs_data = pd.read_excel(r\"C:\\Users\\97155\\Desktop\\IU\\drs_data_23-01.xlsx\")"
   ]
  },
  {
   "cell_type": "code",
   "execution_count": 27,
   "id": "f6e2ea1e-066f-4ec0-b194-959eadf006d6",
   "metadata": {},
   "outputs": [],
   "source": [
    "drs_data.drop(['Unnamed: 0'],axis = 1, inplace = True)"
   ]
  },
  {
   "cell_type": "code",
   "execution_count": 36,
   "id": "220f1578-a4ba-4432-b04f-e51ab3077a4b",
   "metadata": {},
   "outputs": [],
   "source": [
    "drs_data.rename(columns = {\"monitor_id\":\"monitorId\"},inplace=True)"
   ]
  },
  {
   "cell_type": "code",
   "execution_count": 40,
   "id": "805af7e5-ea3b-4d6b-89eb-37f4502eafe0",
   "metadata": {},
   "outputs": [],
   "source": [
    "# week1_drs = pd.merge(drs_data,week1_final,on=\"monitorId\")\n",
    "# week2_drs = pd.merge(drs_data,week2_final,on=\"monitorId\")\n",
    "# week3_drs = pd.merge(drs_data,week3_final,on=\"monitorId\")\n",
    "# week4_drs = pd.merge(drs_data,week4_final,on=\"monitorId\")"
   ]
  },
  {
   "cell_type": "code",
   "execution_count": 42,
   "id": "04af8738-bf4b-40f0-83db-74067a83412c",
   "metadata": {},
   "outputs": [],
   "source": [
    "# week1_drs.to_excel(\"Dec_week1_drs.xlsx\",index=False)\n",
    "# week2_drs.to_excel(\"Dec_week2_drs.xlsx\",index=False)\n",
    "# week3_drs.to_excel(\"Dec_week3_drs.xlsx\",index=False)\n",
    "# week4_drs.to_excel(\"Dec_week4_drs.xlsx\",index=False)"
   ]
  },
  {
   "cell_type": "code",
   "execution_count": null,
   "id": "a4c81a1b-f579-4dfc-9a1a-0691597a749a",
   "metadata": {},
   "outputs": [],
   "source": []
  }
 ],
 "metadata": {
  "kernelspec": {
   "display_name": "Python 3 (ipykernel)",
   "language": "python",
   "name": "python3"
  },
  "language_info": {
   "codemirror_mode": {
    "name": "ipython",
    "version": 3
   },
   "file_extension": ".py",
   "mimetype": "text/x-python",
   "name": "python",
   "nbconvert_exporter": "python",
   "pygments_lexer": "ipython3",
   "version": "3.9.12"
  }
 },
 "nbformat": 4,
 "nbformat_minor": 5
}
