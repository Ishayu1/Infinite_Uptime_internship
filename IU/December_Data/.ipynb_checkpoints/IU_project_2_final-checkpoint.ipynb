{
 "cells": [
  {
   "cell_type": "code",
   "execution_count": 1,
   "id": "6bc4e39f-3d4f-4792-b939-46aeebe1d9b8",
   "metadata": {},
   "outputs": [],
   "source": [
    "import pandas as pd\n",
    "import numpy as np"
   ]
  },
  {
   "cell_type": "markdown",
   "id": "99330e03-e94b-4f0c-a8df-a58f0e9e1b2b",
   "metadata": {},
   "source": [
    "### Columns:\n",
    "signal_energy, velocity_x, velocity_y, velocity_z"
   ]
  },
  {
   "cell_type": "markdown",
   "id": "9588e730-0295-4f76-ad61-429f65370247",
   "metadata": {
    "tags": []
   },
   "source": [
    "##### "
   ]
  },
  {
   "cell_type": "code",
   "execution_count": 2,
   "id": "29c50423-61b9-4cd2-89f1-28971d0bcdf4",
   "metadata": {},
   "outputs": [
    {
     "data": {
      "text/plain": [
       "['.ipynb_checkpoints',\n",
       " 'Cloud_data_for_10th_December.xlsx',\n",
       " 'Cloud_data_for_11th_December.xlsx',\n",
       " 'Cloud_data_for_12th_December.xlsx',\n",
       " 'Cloud_data_for_13th_December.xlsx',\n",
       " 'Cloud_data_for_14th_December.xlsx',\n",
       " 'Cloud_data_for_15th_December.xlsx',\n",
       " 'Cloud_data_for_16th_December.xlsx',\n",
       " 'Cloud_data_for_17th_December.xlsx',\n",
       " 'Cloud_data_for_18th_December.xlsx',\n",
       " 'Cloud_data_for_19th_December.xlsx',\n",
       " 'Cloud_data_for_20th_December.xlsx',\n",
       " 'Cloud_data_for_21th_December.xlsx',\n",
       " 'Cloud_data_for_22th_December.xlsx',\n",
       " 'Cloud_data_for_23th_December.xlsx',\n",
       " 'Cloud_data_for_24th_December.xlsx',\n",
       " 'Cloud_data_for_25th_December.xlsx',\n",
       " 'Cloud_data_for_26th_December.xlsx',\n",
       " 'Cloud_data_for_27th_December.xlsx',\n",
       " 'Cloud_data_for_28th_December.xlsx',\n",
       " 'Cloud_data_for_29th_December.xlsx',\n",
       " 'Cloud_data_for_30th_December.xlsx',\n",
       " 'Cloud_data_for_31th_December.xlsx',\n",
       " 'Cloud_data_for_4th_December.xlsx',\n",
       " 'Cloud_data_for_5th_December.xlsx',\n",
       " 'Cloud_data_for_6th_December.xlsx',\n",
       " 'Cloud_data_for_7th_December.xlsx',\n",
       " 'Cloud_data_for_8th_December.xlsx',\n",
       " 'Cloud_data_for_9th_December.xlsx',\n",
       " 'IU_project_2_final.ipynb',\n",
       " '~$Cloud_data_for_4th_December.xlsx']"
      ]
     },
     "execution_count": 2,
     "metadata": {},
     "output_type": "execute_result"
    }
   ],
   "source": [
    "import os\n",
    "path = r\"C:\\Users\\97155\\Desktop\\IU\\December_Data\"\n",
    "files = os.listdir(path)\n",
    "files"
   ]
  },
  {
   "cell_type": "code",
   "execution_count": 3,
   "id": "4f92bb03-cdc7-4276-8c44-eb1b04381104",
   "metadata": {},
   "outputs": [
    {
     "data": {
      "text/plain": [
       "['Cloud_data_for_10th_December.xlsx',\n",
       " 'Cloud_data_for_11th_December.xlsx',\n",
       " 'Cloud_data_for_12th_December.xlsx',\n",
       " 'Cloud_data_for_13th_December.xlsx',\n",
       " 'Cloud_data_for_14th_December.xlsx',\n",
       " 'Cloud_data_for_15th_December.xlsx',\n",
       " 'Cloud_data_for_16th_December.xlsx',\n",
       " 'Cloud_data_for_17th_December.xlsx',\n",
       " 'Cloud_data_for_18th_December.xlsx',\n",
       " 'Cloud_data_for_19th_December.xlsx',\n",
       " 'Cloud_data_for_20th_December.xlsx',\n",
       " 'Cloud_data_for_21th_December.xlsx',\n",
       " 'Cloud_data_for_22th_December.xlsx',\n",
       " 'Cloud_data_for_23th_December.xlsx',\n",
       " 'Cloud_data_for_24th_December.xlsx',\n",
       " 'Cloud_data_for_25th_December.xlsx',\n",
       " 'Cloud_data_for_26th_December.xlsx',\n",
       " 'Cloud_data_for_27th_December.xlsx',\n",
       " 'Cloud_data_for_28th_December.xlsx',\n",
       " 'Cloud_data_for_29th_December.xlsx',\n",
       " 'Cloud_data_for_30th_December.xlsx',\n",
       " 'Cloud_data_for_31th_December.xlsx',\n",
       " 'Cloud_data_for_4th_December.xlsx',\n",
       " 'Cloud_data_for_5th_December.xlsx',\n",
       " 'Cloud_data_for_6th_December.xlsx',\n",
       " 'Cloud_data_for_7th_December.xlsx',\n",
       " 'Cloud_data_for_8th_December.xlsx',\n",
       " 'Cloud_data_for_9th_December.xlsx']"
      ]
     },
     "execution_count": 3,
     "metadata": {},
     "output_type": "execute_result"
    }
   ],
   "source": [
    "files_xls = [f for f in files if f[-4:] == 'xlsx']\n",
    "files_xls = files_xls[:-1]\n",
    "files_xls"
   ]
  },
  {
   "cell_type": "code",
   "execution_count": 4,
   "id": "76ee0e5a-fc49-45dc-ba2c-4dfaf753d5b5",
   "metadata": {},
   "outputs": [],
   "source": [
    "def condition(vals):\n",
    "    return vals.isna().any()"
   ]
  },
  {
   "cell_type": "code",
   "execution_count": 5,
   "id": "447c764d-0ff7-4e90-ab37-bc310eb4e1fa",
   "metadata": {},
   "outputs": [],
   "source": [
    "def missing_vals(filename,condition):\n",
    "    df = pd.read_excel(filename)\n",
    "    vals = df.filter(regex=\"SIGNAL_ENERGY|VELOCITY_X|VELOCITY_Y|VELOCITY_Z\")\n",
    "    vals = vals.filter(regex=\"2_day_mean|5_day_mean|10_day_mean|30_day_mean\")\n",
    "    vals[\"Missing\"] = vals.apply(condition,axis=1)\n",
    "    vals['Columns_missing'] = vals.apply(lambda x: x[x.isnull()].index,axis=1)\n",
    "    vals['Columns_missing'] = np.where(vals[\"Missing\"]==False,'[]',vals['Columns_missing'])\n",
    "    cols = [vals[\"Missing\"],vals['Columns_missing']]\n",
    "    df = df.join(cols)\n",
    "    df.to_excel(f\"Updated_{filename}\",index=False)"
   ]
  },
  {
   "cell_type": "code",
   "execution_count": 6,
   "id": "befce6cd-5347-42b1-8ef5-760f590da947",
   "metadata": {},
   "outputs": [
    {
     "ename": "ValueError",
     "evalue": "operands could not be broadcast together with shapes (2,) (0,) (2,) ",
     "output_type": "error",
     "traceback": [
      "\u001b[1;31m---------------------------------------------------------------------------\u001b[0m",
      "\u001b[1;31mValueError\u001b[0m                                Traceback (most recent call last)",
      "Input \u001b[1;32mIn [6]\u001b[0m, in \u001b[0;36m<cell line: 1>\u001b[1;34m()\u001b[0m\n\u001b[0;32m      1\u001b[0m \u001b[38;5;28;01mfor\u001b[39;00m i \u001b[38;5;129;01min\u001b[39;00m files_xls:\n\u001b[1;32m----> 2\u001b[0m     \u001b[43mmissing_vals\u001b[49m\u001b[43m(\u001b[49m\u001b[43mi\u001b[49m\u001b[43m,\u001b[49m\u001b[43mcondition\u001b[49m\u001b[43m)\u001b[49m\n",
      "Input \u001b[1;32mIn [5]\u001b[0m, in \u001b[0;36mmissing_vals\u001b[1;34m(filename, condition)\u001b[0m\n\u001b[0;32m      5\u001b[0m vals[\u001b[38;5;124m\"\u001b[39m\u001b[38;5;124mMissing\u001b[39m\u001b[38;5;124m\"\u001b[39m] \u001b[38;5;241m=\u001b[39m vals\u001b[38;5;241m.\u001b[39mapply(condition,axis\u001b[38;5;241m=\u001b[39m\u001b[38;5;241m1\u001b[39m)\n\u001b[0;32m      6\u001b[0m vals[\u001b[38;5;124m'\u001b[39m\u001b[38;5;124mColumns_missing\u001b[39m\u001b[38;5;124m'\u001b[39m] \u001b[38;5;241m=\u001b[39m vals\u001b[38;5;241m.\u001b[39mapply(\u001b[38;5;28;01mlambda\u001b[39;00m x: x[x\u001b[38;5;241m.\u001b[39misnull()]\u001b[38;5;241m.\u001b[39mindex,axis\u001b[38;5;241m=\u001b[39m\u001b[38;5;241m1\u001b[39m)\n\u001b[1;32m----> 7\u001b[0m vals[\u001b[38;5;124m'\u001b[39m\u001b[38;5;124mColumns_missing\u001b[39m\u001b[38;5;124m'\u001b[39m] \u001b[38;5;241m=\u001b[39m \u001b[43mnp\u001b[49m\u001b[38;5;241;43m.\u001b[39;49m\u001b[43mwhere\u001b[49m\u001b[43m(\u001b[49m\u001b[43mvals\u001b[49m\u001b[43m[\u001b[49m\u001b[38;5;124;43m\"\u001b[39;49m\u001b[38;5;124;43mMissing\u001b[39;49m\u001b[38;5;124;43m\"\u001b[39;49m\u001b[43m]\u001b[49m\u001b[38;5;241;43m==\u001b[39;49m\u001b[38;5;28;43;01mFalse\u001b[39;49;00m\u001b[43m,\u001b[49m\u001b[43m[\u001b[49m\u001b[43m]\u001b[49m\u001b[43m,\u001b[49m\u001b[43mvals\u001b[49m\u001b[43m[\u001b[49m\u001b[38;5;124;43m'\u001b[39;49m\u001b[38;5;124;43mColumns_missing\u001b[39;49m\u001b[38;5;124;43m'\u001b[39;49m\u001b[43m]\u001b[49m\u001b[43m)\u001b[49m\n\u001b[0;32m      8\u001b[0m cols \u001b[38;5;241m=\u001b[39m [vals[\u001b[38;5;124m\"\u001b[39m\u001b[38;5;124mMissing\u001b[39m\u001b[38;5;124m\"\u001b[39m],vals[\u001b[38;5;124m'\u001b[39m\u001b[38;5;124mColumns_missing\u001b[39m\u001b[38;5;124m'\u001b[39m]]\n\u001b[0;32m      9\u001b[0m df \u001b[38;5;241m=\u001b[39m df\u001b[38;5;241m.\u001b[39mjoin(cols)\n",
      "File \u001b[1;32m<__array_function__ internals>:5\u001b[0m, in \u001b[0;36mwhere\u001b[1;34m(*args, **kwargs)\u001b[0m\n",
      "\u001b[1;31mValueError\u001b[0m: operands could not be broadcast together with shapes (2,) (0,) (2,) "
     ]
    }
   ],
   "source": [
    "for i in files_xls:\n",
    "    missing_vals(i,condition)"
   ]
  },
  {
   "cell_type": "code",
   "execution_count": null,
   "id": "1b78593c-01fb-450f-a80b-2e0deb2f6892",
   "metadata": {},
   "outputs": [],
   "source": []
  }
 ],
 "metadata": {
  "kernelspec": {
   "display_name": "Python 3 (ipykernel)",
   "language": "python",
   "name": "python3"
  },
  "language_info": {
   "codemirror_mode": {
    "name": "ipython",
    "version": 3
   },
   "file_extension": ".py",
   "mimetype": "text/x-python",
   "name": "python",
   "nbconvert_exporter": "python",
   "pygments_lexer": "ipython3",
   "version": "3.9.12"
  }
 },
 "nbformat": 4,
 "nbformat_minor": 5
}
