{
 "cells": [
  {
   "cell_type": "code",
   "execution_count": 8,
   "id": "6bc4e39f-3d4f-4792-b939-46aeebe1d9b8",
   "metadata": {},
   "outputs": [],
   "source": [
    "import pandas as pd\n",
    "import numpy as np"
   ]
  },
  {
   "cell_type": "markdown",
   "id": "99330e03-e94b-4f0c-a8df-a58f0e9e1b2b",
   "metadata": {},
   "source": [
    "### Columns:\n",
    "signal_energy, velocity_x, velocity_y, velocity_z"
   ]
  },
  {
   "cell_type": "markdown",
   "id": "9588e730-0295-4f76-ad61-429f65370247",
   "metadata": {
    "tags": []
   },
   "source": [
    "##### "
   ]
  },
  {
   "cell_type": "code",
   "execution_count": 4,
   "id": "29c50423-61b9-4cd2-89f1-28971d0bcdf4",
   "metadata": {},
   "outputs": [
    {
     "data": {
      "text/plain": [
       "['.ipynb_checkpoints',\n",
       " 'Cloud_data_for_10th_December.xlsx',\n",
       " 'Cloud_data_for_11th_December.xlsx',\n",
       " 'Cloud_data_for_12th_December.xlsx',\n",
       " 'Cloud_data_for_13th_December.xlsx',\n",
       " 'Cloud_data_for_14th_December.xlsx',\n",
       " 'Cloud_data_for_15th_December.xlsx',\n",
       " 'Cloud_data_for_16th_December.xlsx',\n",
       " 'Cloud_data_for_17th_December.xlsx',\n",
       " 'Cloud_data_for_18th_December.xlsx',\n",
       " 'Cloud_data_for_19th_December.xlsx',\n",
       " 'Cloud_data_for_20th_December.xlsx',\n",
       " 'Cloud_data_for_21th_December.xlsx',\n",
       " 'Cloud_data_for_22th_December.xlsx',\n",
       " 'Cloud_data_for_23th_December.xlsx',\n",
       " 'Cloud_data_for_24th_December.xlsx',\n",
       " 'Cloud_data_for_25th_December.xlsx',\n",
       " 'Cloud_data_for_26th_December.xlsx',\n",
       " 'Cloud_data_for_27th_December.xlsx',\n",
       " 'Cloud_data_for_28th_December.xlsx',\n",
       " 'Cloud_data_for_29th_December.xlsx',\n",
       " 'Cloud_data_for_30th_December.xlsx',\n",
       " 'Cloud_data_for_31th_December.xlsx',\n",
       " 'Cloud_data_for_4th_December.xlsx',\n",
       " 'Cloud_data_for_5th_December.xlsx',\n",
       " 'Cloud_data_for_6th_December.xlsx',\n",
       " 'Cloud_data_for_7th_December.xlsx',\n",
       " 'Cloud_data_for_8th_December.xlsx',\n",
       " 'Cloud_data_for_9th_December.xlsx',\n",
       " 'IU_project_2.ipynb',\n",
       " '~$Cloud_data_for_4th_December.xlsx']"
      ]
     },
     "execution_count": 4,
     "metadata": {},
     "output_type": "execute_result"
    }
   ],
   "source": [
    "import os\n",
    "path = os.getcwd()\n",
    "files = os.listdir(path)\n",
    "files"
   ]
  },
  {
   "cell_type": "code",
   "execution_count": 16,
   "id": "4f92bb03-cdc7-4276-8c44-eb1b04381104",
   "metadata": {},
   "outputs": [
    {
     "data": {
      "text/plain": [
       "['Cloud_data_for_10th_December.xlsx',\n",
       " 'Cloud_data_for_11th_December.xlsx',\n",
       " 'Cloud_data_for_12th_December.xlsx',\n",
       " 'Cloud_data_for_13th_December.xlsx',\n",
       " 'Cloud_data_for_14th_December.xlsx',\n",
       " 'Cloud_data_for_15th_December.xlsx',\n",
       " 'Cloud_data_for_16th_December.xlsx',\n",
       " 'Cloud_data_for_17th_December.xlsx',\n",
       " 'Cloud_data_for_18th_December.xlsx',\n",
       " 'Cloud_data_for_19th_December.xlsx',\n",
       " 'Cloud_data_for_20th_December.xlsx',\n",
       " 'Cloud_data_for_21th_December.xlsx',\n",
       " 'Cloud_data_for_22th_December.xlsx',\n",
       " 'Cloud_data_for_23th_December.xlsx',\n",
       " 'Cloud_data_for_24th_December.xlsx',\n",
       " 'Cloud_data_for_25th_December.xlsx',\n",
       " 'Cloud_data_for_26th_December.xlsx',\n",
       " 'Cloud_data_for_27th_December.xlsx',\n",
       " 'Cloud_data_for_28th_December.xlsx',\n",
       " 'Cloud_data_for_29th_December.xlsx',\n",
       " 'Cloud_data_for_30th_December.xlsx',\n",
       " 'Cloud_data_for_31th_December.xlsx',\n",
       " 'Cloud_data_for_4th_December.xlsx',\n",
       " 'Cloud_data_for_5th_December.xlsx',\n",
       " 'Cloud_data_for_6th_December.xlsx',\n",
       " 'Cloud_data_for_7th_December.xlsx',\n",
       " 'Cloud_data_for_8th_December.xlsx',\n",
       " 'Cloud_data_for_9th_December.xlsx']"
      ]
     },
     "execution_count": 16,
     "metadata": {},
     "output_type": "execute_result"
    }
   ],
   "source": [
    "files_xls = [f for f in files if f[-4:] == 'xlsx']\n",
    "files_xls = files_xls[:-1]\n",
    "files_xls"
   ]
  },
  {
   "cell_type": "code",
   "execution_count": 15,
   "id": "76ee0e5a-fc49-45dc-ba2c-4dfaf753d5b5",
   "metadata": {},
   "outputs": [],
   "source": [
    "def condition(vals):\n",
    "    return vals.isna().any()"
   ]
  },
  {
   "cell_type": "code",
   "execution_count": 20,
   "id": "447c764d-0ff7-4e90-ab37-bc310eb4e1fa",
   "metadata": {},
   "outputs": [],
   "source": [
    "def missing_vals(filename,condition):\n",
    "    df = pd.read_excel(filename)\n",
    "    vals = df.filter(regex=\"SIGNAL_ENERGY|VELOCITY_X|VELOCITY_Y|VELOCITY_Z\")\n",
    "    vals = vals.filter(regex=\"2_day_mean|5_day_mean|10_day_mean|30_day_mean\")\n",
    "    vals[\"Missing\"] = vals.apply(condition,axis=1)\n",
    "    vals['Columns_missing'] = vals.apply(lambda x: x[x.isnull()].index,axis=1)\n",
    "    vals['Columns_missing'] = np.where(vals[\"Missing\"]==False,np.nan,vals['Columns_missing'])\n",
    "    cols = [vals[\"Missing\"],vals['Columns_missing']]\n",
    "    df = df.join(cols)\n",
    "    df.to_excel(f\"Updated_{filename}\",index=False)"
   ]
  },
  {
   "cell_type": "code",
   "execution_count": 21,
   "id": "befce6cd-5347-42b1-8ef5-760f590da947",
   "metadata": {},
   "outputs": [],
   "source": [
    "for i in files_xls:\n",
    "    missing_vals(i,condition)"
   ]
  },
  {
   "cell_type": "code",
   "execution_count": null,
   "id": "1b78593c-01fb-450f-a80b-2e0deb2f6892",
   "metadata": {},
   "outputs": [],
   "source": []
  }
 ],
 "metadata": {
  "kernelspec": {
   "display_name": "Python 3 (ipykernel)",
   "language": "python",
   "name": "python3"
  },
  "language_info": {
   "codemirror_mode": {
    "name": "ipython",
    "version": 3
   },
   "file_extension": ".py",
   "mimetype": "text/x-python",
   "name": "python",
   "nbconvert_exporter": "python",
   "pygments_lexer": "ipython3",
   "version": "3.9.12"
  }
 },
 "nbformat": 4,
 "nbformat_minor": 5
}
