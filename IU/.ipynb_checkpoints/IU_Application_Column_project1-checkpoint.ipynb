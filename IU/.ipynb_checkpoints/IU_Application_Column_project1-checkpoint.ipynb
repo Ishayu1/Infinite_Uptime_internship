{
 "cells": [
  {
   "cell_type": "code",
   "execution_count": 2,
   "id": "67b98c7d-6e0b-4640-8512-11f2b7d3d90f",
   "metadata": {},
   "outputs": [],
   "source": [
    "import pandas as pd\n",
    "import numpy as np"
   ]
  },
  {
   "cell_type": "code",
   "execution_count": 3,
   "id": "6d3d3de3-787d-4df2-b5b3-a8c259de4de9",
   "metadata": {},
   "outputs": [],
   "source": [
    "data = pd.read_excel(r\"C:\\Users\\97155\\Downloads\\machine_data_File_2023-01-12.xlsx\")"
   ]
  },
  {
   "cell_type": "code",
   "execution_count": 54,
   "id": "8e47008c-6525-4d1b-b700-8ad57a8ca30e",
   "metadata": {},
   "outputs": [],
   "source": [
    "data[\"Application\"] = np.nan"
   ]
  },
  {
   "cell_type": "code",
   "execution_count": 189,
   "id": "08b8a070-1afc-44a1-a239-8a13049553d7",
   "metadata": {},
   "outputs": [],
   "source": [
    "Application = []\n",
    "for i in data.machine_name:\n",
    "    if \"fan\" in i.lower():\n",
    "        Application.append(\"Fans\")\n",
    "    elif \"conveyor\" in i.lower():\n",
    "        Application.append(\"Conveyor\")\n",
    "    elif \"bridle\" in i.lower():\n",
    "        Application.append(\"Bridle Drives\")\n",
    "    elif \"mill\" in i.lower():\n",
    "        Application.append(\"Mill Stands\")\n",
    "    elif \"lt\" in i.lower():\n",
    "        Application.append(\"LT Drives\")\n",
    "    elif \"boom conveyor\" in i.lower():\n",
    "        Application.append(\"Boom Conveyor\")\n",
    "    elif \"drum\" in i.lower():\n",
    "        Application.append(\"Drum Drive System\")\n",
    "    elif \"descale pump\" in i.lower():\n",
    "        Application.append(\"Descale Pump\")\n",
    "    elif \"pit\" in i.lower():\n",
    "        Application.append(\"Pit Pump\")\n",
    "    elif \"looper\" in i.lower():\n",
    "        Application.append(\"Looper Drives\")\n",
    "    elif \"reel\" in i.lower():\n",
    "        Application.append(\"Pay off reels\")\n",
    "    else:\n",
    "        Application.append(np.nan)\n",
    "    \n",
    "    "
   ]
  },
  {
   "cell_type": "code",
   "execution_count": 190,
   "id": "fcb25b37-ac73-44f7-950e-26b8d4d9e260",
   "metadata": {},
   "outputs": [
    {
     "data": {
      "text/plain": [
       "8758"
      ]
     },
     "execution_count": 190,
     "metadata": {},
     "output_type": "execute_result"
    }
   ],
   "source": [
    "len(Application) "
   ]
  },
  {
   "cell_type": "code",
   "execution_count": 191,
   "id": "791ff27a-a9fc-4705-b7e2-7661598778e7",
   "metadata": {},
   "outputs": [],
   "source": [
    "data[\"Application\"] = Application"
   ]
  },
  {
   "cell_type": "code",
   "execution_count": 203,
   "id": "96c99641-a5f0-4b20-a8b7-46a81d5b17fd",
   "metadata": {},
   "outputs": [
    {
     "data": {
      "text/plain": [
       "20"
      ]
     },
     "execution_count": 203,
     "metadata": {},
     "output_type": "execute_result"
    }
   ],
   "source": [
    "data.machine_name.apply(str.lower).str.contains(\"boom conveyor\").sum()"
   ]
  },
  {
   "cell_type": "code",
   "execution_count": 192,
   "id": "f76be0c5-d64d-400f-bbad-0d2ab987a924",
   "metadata": {},
   "outputs": [
    {
     "name": "stdout",
     "output_type": "stream",
     "text": [
      "<class 'pandas.core.frame.DataFrame'>\n",
      "RangeIndex: 8758 entries, 0 to 8757\n",
      "Data columns (total 12 columns):\n",
      " #   Column              Non-Null Count  Dtype         \n",
      "---  ------              --------------  -----         \n",
      " 0   monitor_name        8758 non-null   object        \n",
      " 1   monitor_id          8758 non-null   int64         \n",
      " 2   monitor_type        8758 non-null   object        \n",
      " 3   machine_name        8758 non-null   object        \n",
      " 4   machine_id          8758 non-null   int64         \n",
      " 5   machine_type        8758 non-null   object        \n",
      " 6   plant_name          8758 non-null   object        \n",
      " 7   industry_type       5961 non-null   object        \n",
      " 8   org_name            8758 non-null   object        \n",
      " 9   subscription_start  8752 non-null   datetime64[ns]\n",
      " 10  subscription_end    8752 non-null   datetime64[ns]\n",
      " 11  Application         2435 non-null   object        \n",
      "dtypes: datetime64[ns](2), int64(2), object(8)\n",
      "memory usage: 821.2+ KB\n"
     ]
    }
   ],
   "source": [
    "data.info()"
   ]
  },
  {
   "cell_type": "code",
   "execution_count": 196,
   "id": "a6bd8911-4814-4702-a70c-5120490edba9",
   "metadata": {},
   "outputs": [],
   "source": [
    "data.to_excel(\"machine_data_file(with applications)_2023-01-14.xlsx\",index=False)"
   ]
  },
  {
   "cell_type": "code",
   "execution_count": 198,
   "id": "c279f081-59e3-4820-8fdd-f8a1ae52be11",
   "metadata": {},
   "outputs": [
    {
     "data": {
      "text/plain": [
       "Index(['monitor_name', 'monitor_id', 'monitor_type', 'machine_name',\n",
       "       'machine_id', 'machine_type', 'plant_name', 'industry_type', 'org_name',\n",
       "       'subscription_start', 'subscription_end', 'Application'],\n",
       "      dtype='object')"
      ]
     },
     "execution_count": 198,
     "metadata": {},
     "output_type": "execute_result"
    }
   ],
   "source": [
    "data.columns"
   ]
  },
  {
   "cell_type": "code",
   "execution_count": null,
   "id": "96c73785-1420-4957-97a8-992ab0136654",
   "metadata": {},
   "outputs": [],
   "source": []
  }
 ],
 "metadata": {
  "kernelspec": {
   "display_name": "Python 3 (ipykernel)",
   "language": "python",
   "name": "python3"
  },
  "language_info": {
   "codemirror_mode": {
    "name": "ipython",
    "version": 3
   },
   "file_extension": ".py",
   "mimetype": "text/x-python",
   "name": "python",
   "nbconvert_exporter": "python",
   "pygments_lexer": "ipython3",
   "version": "3.9.12"
  }
 },
 "nbformat": 4,
 "nbformat_minor": 5
}
