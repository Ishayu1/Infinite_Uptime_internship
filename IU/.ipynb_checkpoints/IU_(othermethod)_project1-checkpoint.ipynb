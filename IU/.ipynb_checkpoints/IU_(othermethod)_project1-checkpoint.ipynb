{
 "cells": [
  {
   "cell_type": "code",
   "execution_count": 1,
   "id": "f23ae67f-6601-4c14-849b-37633b161f42",
   "metadata": {},
   "outputs": [],
   "source": [
    "import pandas as pd\n",
    "import numpy as np"
   ]
  },
  {
   "cell_type": "code",
   "execution_count": 2,
   "id": "a5f914d7-3457-4ca2-86cf-2a58d518d0af",
   "metadata": {},
   "outputs": [],
   "source": [
    "data = pd.read_excel(r\"C:\\Users\\97155\\Downloads\\machine_data_File_2023-01-12.xlsx\")"
   ]
  },
  {
   "cell_type": "code",
   "execution_count": 66,
   "id": "648bda08-1aa0-4886-b113-16e599335774",
   "metadata": {},
   "outputs": [],
   "source": [
    "Fan = data[\"machine_name\"].apply(str.lower).str.contains(\"fan\")\n",
    "Conveyor = data[\"machine_name\"].apply(str.lower).str.contains(\"conveyor\")\n",
    "Bridle = data[\"machine_name\"].apply(str.lower).str.contains(\"bridle\")\n",
    "Mill = data[\"machine_name\"].apply(str.lower).str.contains(\"mill\")\n",
    "LT =  data[\"machine_name\"].apply(str.lower).str.contains(\"lt\")\n",
    "Boom_Conveyor = data[\"machine_name\"].apply(str.lower).str.contains(\"boom conveyor\")\n",
    "Drum = data[\"machine_name\"].apply(str.lower).str.contains(\"drum\")\n",
    "descale = data[\"machine_name\"].apply(str.lower).str.contains(\"descale pump\")\n",
    "pit = data[\"machine_name\"].apply(str.lower).str.contains(\"pit\")\n",
    "looper = data[\"machine_name\"].apply(str.lower).str.contains(\"looper\")\n",
    "reel = data[\"machine_name\"].apply(str.lower).str.contains(\"reel\")"
   ]
  },
  {
   "cell_type": "code",
   "execution_count": 68,
   "id": "dc779712-51fb-42c6-8be5-38f6f01c6f09",
   "metadata": {},
   "outputs": [],
   "source": [
    "data[\"Application\"] = np.where(Fan, 'Fans', \n",
    "         (np.where(Conveyor, 'Conveyors',\n",
    "        (np.where(Bridle, 'Bridle Drives',\n",
    "        (np.where(Mill, 'Mill Stands', \n",
    "        (np.where(LT, 'LT Drives', \n",
    "        (np.where(Boom_Conveyor, 'Boom Conveyor', \n",
    "        (np.where(Drum, 'Drum Drive System', \n",
    "        (np.where(descale, 'Descale Pump',  \n",
    "        (np.where(pit, 'Pit Pump', \n",
    "        (np.where(looper, 'Looper Drives',  \n",
    "        (np.where(reel, 'Pay off reels', None)))))))))))))))))))))"
   ]
  },
  {
   "cell_type": "code",
   "execution_count": 69,
   "id": "8f1ebb78-98be-4862-94b6-aa05f6eed446",
   "metadata": {},
   "outputs": [
    {
     "name": "stdout",
     "output_type": "stream",
     "text": [
      "<class 'pandas.core.frame.DataFrame'>\n",
      "RangeIndex: 8758 entries, 0 to 8757\n",
      "Data columns (total 12 columns):\n",
      " #   Column              Non-Null Count  Dtype         \n",
      "---  ------              --------------  -----         \n",
      " 0   monitor_name        8758 non-null   object        \n",
      " 1   monitor_id          8758 non-null   int64         \n",
      " 2   monitor_type        8758 non-null   object        \n",
      " 3   machine_name        8758 non-null   object        \n",
      " 4   machine_id          8758 non-null   int64         \n",
      " 5   machine_type        8758 non-null   object        \n",
      " 6   plant_name          8758 non-null   object        \n",
      " 7   industry_type       5961 non-null   object        \n",
      " 8   org_name            8758 non-null   object        \n",
      " 9   subscription_start  8752 non-null   datetime64[ns]\n",
      " 10  subscription_end    8752 non-null   datetime64[ns]\n",
      " 11  Application         2435 non-null   object        \n",
      "dtypes: datetime64[ns](2), int64(2), object(8)\n",
      "memory usage: 821.2+ KB\n"
     ]
    }
   ],
   "source": [
    "data.info()"
   ]
  },
  {
   "cell_type": "code",
   "execution_count": null,
   "id": "f6a19a03-23e1-44bb-a0e9-1c0d57950711",
   "metadata": {},
   "outputs": [],
   "source": []
  }
 ],
 "metadata": {
  "kernelspec": {
   "display_name": "Python 3 (ipykernel)",
   "language": "python",
   "name": "python3"
  },
  "language_info": {
   "codemirror_mode": {
    "name": "ipython",
    "version": 3
   },
   "file_extension": ".py",
   "mimetype": "text/x-python",
   "name": "python",
   "nbconvert_exporter": "python",
   "pygments_lexer": "ipython3",
   "version": "3.9.12"
  }
 },
 "nbformat": 4,
 "nbformat_minor": 5
}
